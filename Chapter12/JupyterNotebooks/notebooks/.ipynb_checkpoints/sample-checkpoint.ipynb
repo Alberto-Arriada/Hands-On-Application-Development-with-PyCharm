{
 "cells": [
  {
   "cell_type": "markdown",
   "metadata": {
    "pycharm": {
     "name": "#%% md\n"
    }
   },
   "source": [
    "### Importing libraries\n"
   ]
  },
  {
   "cell_type": "code",
   "execution_count": 1,
   "metadata": {
    "collapsed": true,
    "pycharm": {
     "is_executing": false
    }
   },
   "outputs": [],
   "source": [
    "import pandas as pd\n",
    "import numpy as np\n",
    "import matplotlib.pyplot as plt\n"
   ]
  },
  {
   "cell_type": "markdown",
   "metadata": {
    "pycharm": {
     "name": "#%% md\n"
    }
   },
   "source": [
    "### Generating the dataset\n"
   ]
  },
  {
   "cell_type": "code",
   "execution_count": null,
   "metadata": {
    "pycharm": {
     "name": "#%%\n"
    }
   },
   "outputs": [],
   "source": [
    "x = np.random.rand(50,)\n",
    "y = x * 2 + np.random.normal(0, 0.3, 50)\n",
    "z = np.random.rand(50,)\n",
    "\n",
    "df = pd.DataFrame({\n",
    "    'x': x,\n",
    "    'y': y,\n",
    "    'z': z\n",
    "})\n"
   ]
  },
  {
   "cell_type": "markdown",
   "metadata": {
    "pycharm": {
     "name": "#%% md\n"
    }
   },
   "source": [
    "### The Pearson correlation\n"
   ]
  },
  {
   "cell_type": "markdown",
   "metadata": {},
   "source": [
    "$r_{XY} \n",
    "= \\frac{\\sum^n_{i=1}{(X_i - \\bar{X})(Y_i - \\bar{Y})}}\n",
    "{\\sqrt{\\sum^n_{i=1}{(X_i - \\bar{X})^2}}\\sqrt{\\sum^n_{i=1}{(Y_i - \\bar{Y})^2}}}$\n"
   ]
  },
  {
   "cell_type": "markdown",
   "metadata": {
    "pycharm": {
     "name": "#%% md\n"
    }
   },
   "source": [
    "### Correlation matrix in heatmap\n"
   ]
  },
  {
   "cell_type": "code",
   "execution_count": null,
   "metadata": {
    "pycharm": {
     "name": "#%%\n"
    }
   },
   "outputs": [],
   "source": [
    "# Compute and show correlation matrix\n",
    "corr_mat = df.corr()\n",
    "\n",
    "plt.matshow(corr_mat)\n",
    "plt.show()\n"
   ]
  },
  {
   "cell_type": "code",
   "execution_count": null,
   "metadata": {
    "pycharm": {
     "name": "#%% Scatter plot\n"
    }
   },
   "outputs": [],
   "source": [
    "plt.scatter(df['x'], df['y'])\n",
    "plt.show()\n",
    " "
   ]
  }
 ],
 "metadata": {
  "kernelspec": {
   "display_name": "PyCharm (JupyterNotebooks)",
   "language": "python",
   "name": "pycharm-362a6a2a"
  },
  "language_info": {
   "codemirror_mode": {
    "name": "ipython",
    "version": 3
   },
   "file_extension": ".py",
   "mimetype": "text/x-python",
   "name": "python",
   "nbconvert_exporter": "python",
   "pygments_lexer": "ipython3",
   "version": "3.7.0"
  },
  "pycharm": {
   "stem_cell": {
    "cell_type": "raw",
    "metadata": {
     "collapsed": false
    },
    "source": []
   }
  }
 },
 "nbformat": 4,
 "nbformat_minor": 1
}
