{
 "cells": [
  {
   "cell_type": "markdown",
   "metadata": {
    "collapsed": true,
    "pycharm": {
     "name": "#%% md\n"
    }
   },
   "source": [
    "# Exploratory Data Analysis with Python\n",
    "\n",
    "A processed version of the Kaggle's [Risk of being drawn into online sex work \n",
    "dataset](https://www.kaggle.com/panoskostakos/online-sex-work).\n",
    "\n",
    "This notebook explores the differences in a number of features/attributes\n",
    "between the group of low-risk users and that of high-risk users in the dataset\n",
    "through visualization. A graph visualization indicating the network of users\n",
    "who are registered as friends in the online forum is also included.\n"
   ]
  },
  {
   "cell_type": "markdown",
   "source": [
    "## Loading data\n"
   ],
   "metadata": {
    "collapsed": false,
    "pycharm": {
     "name": "#%% md\n"
    }
   }
  },
  {
   "cell_type": "code",
   "execution_count": null,
   "outputs": [],
   "source": [
    "import pandas as pd\n",
    "import numpy as np\n",
    "import matplotlib.pyplot as plt\n",
    "import seaborn as sns\n",
    "\n",
    "import warnings\n",
    "warnings.filterwarnings('ignore')\n",
    "\n",
    "df = pd.read_csv('data/cleaned_online_sex_work.csv', index_col=0)\n",
    "df = df.iloc[: 28831, :]\n",
    "df = df[~ df.index.duplicated(keep='first')]\n",
    "df.head()\n"
   ],
   "metadata": {
    "collapsed": false,
    "pycharm": {
     "name": "#%%\n"
    }
   }
  },
  {
   "cell_type": "code",
   "execution_count": null,
   "outputs": [],
   "source": [
    "train_df = df[df['Risk'].isnull() == False]\n",
    "train_df['Risk'] = train_df['Risk'].astype(int)\n",
    "norisk_df = train_df[train_df['Risk'] == 0]\n",
    "risk_df = train_df[train_df['Risk'] != 0]\n",
    "\n",
    "print(train_df.shape)\n"
   ],
   "metadata": {
    "collapsed": false,
    "pycharm": {
     "name": "#%%\n"
    }
   }
  },
  {
   "cell_type": "markdown",
   "source": [
    "## Comparing low- and high-risk data points via bar charts\n"
   ],
   "metadata": {
    "collapsed": false,
    "pycharm": {
     "name": "#%% md\n"
    }
   }
  },
  {
   "cell_type": "code",
   "execution_count": null,
   "outputs": [],
   "source": [
    "f, ax = plt.subplots(2, 2, figsize=(20, 10))\n",
    "\n",
    "sns.countplot(x='Female', hue='Risk', data=train_df, ax=ax[0][0])\n",
    "\n",
    "sns.distplot(norisk_df['Age'], kde_kws={'label': 'Low Risk'}, ax=ax[0][1])\n",
    "sns.distplot(risk_df['Age'], kde_kws={'label': 'High Risk'}, ax=ax[0][1])\n",
    "\n",
    "sns.countplot(x='Location', hue='Risk', data=train_df, ax=ax[1][0])\n",
    "\n",
    "sns.countplot(x='Verification', hue='Risk', data=train_df, ax=ax[1][1])\n",
    "\n",
    "plt.show()\n"
   ],
   "metadata": {
    "collapsed": false,
    "pycharm": {
     "name": "#%%\n"
    }
   }
  },
  {
   "cell_type": "markdown",
   "source": [
    "Some interpretation could be achieved from these visualizations:\n",
    "- The ratio of the number of low-risk users to that of high-risk users is high,\n",
    "as is the ratio of the number of males to the number of females. In other words,\n",
    "there are more low-risk than high-risk users, and more male than female users.\n",
    "- Most users are in their late 20s to mid 60s, no clear different age\n",
    "distributions between low-risk and high-risk users.\n",
    "- There are more low-risk than high-risk users in most registered locations,\n",
    "expect for location M and N.\n",
    "- Most users are not registered in the forum.\n",
    "\n",
    "Possible features to explore: orientation, polarity, looking-for, etc.\n"
   ],
   "metadata": {
    "collapsed": false,
    "pycharm": {
     "name": "#%% md\n"
    }
   }
  },
  {
   "cell_type": "markdown",
   "source": [
    "## Exploring distribution of numerical attributes\n"
   ],
   "metadata": {
    "collapsed": false,
    "pycharm": {
     "name": "#%% md\n"
    }
   }
  },
  {
   "cell_type": "code",
   "execution_count": null,
   "outputs": [],
   "source": [
    "f, ax = plt.subplots(1, 2, figsize=(15, 5))\n",
    "sns.distplot(norisk_df['Points_Rank'], kde_kws={'label': 'Low Risk'}, ax=ax[0])\n",
    "sns.distplot(risk_df['Points_Rank'], kde_kws={'label': 'High Risk'}, ax=ax[1])\n",
    "\n",
    "plt.show()\n"
   ],
   "metadata": {
    "collapsed": false,
    "pycharm": {
     "name": "#%%\n"
    }
   }
  },
  {
   "cell_type": "markdown",
   "source": [
    "Possible features to explore: online activity statistics, number of friends\n"
   ],
   "metadata": {
    "collapsed": false,
    "pycharm": {
     "name": "#%% md\n"
    }
   }
  },
  {
   "cell_type": "markdown",
   "source": [
    "## Feature correlation matrix\n"
   ],
   "metadata": {
    "collapsed": false,
    "pycharm": {
     "name": "#%% md\n"
    }
   }
  },
  {
   "cell_type": "code",
   "execution_count": null,
   "outputs": [],
   "source": [
    "corr_matrix = train_df.drop(['Friends_ID_list'], axis=1).corr()\n",
    "\n",
    "f, ax = plt.subplots(1, 1, figsize=(15, 10))\n",
    "sns.heatmap(corr_matrix)\n",
    "\n",
    "plt.show()\n"
   ],
   "metadata": {
    "collapsed": false,
    "pycharm": {
     "name": "#%%\n"
    }
   }
  },
  {
   "cell_type": "markdown",
   "source": [
    "## Insights from machine learning\n"
   ],
   "metadata": {
    "collapsed": false,
    "pycharm": {
     "name": "#%% md\n"
    }
   }
  },
  {
   "cell_type": "code",
   "execution_count": null,
   "outputs": [],
   "source": [
    "from sklearn.svm import LinearSVC\n",
    "\n",
    "\n",
    "location_means = train_df.groupby('Location').mean()['Risk']\n",
    "train_df['Location'] = train_df['Location'].map(location_means)\n",
    "X_train = train_df.drop(['Friends_ID_list', 'Risk'], axis=1)\n",
    "y_train = train_df['Risk']\n",
    "\n",
    "clf = LinearSVC()\n",
    "clf.fit(X_train, y_train)\n",
    "\n",
    "nfeatures = 10\n",
    "\n",
    "coef = clf.coef_.ravel()\n",
    "top_positive_coefs = np.argsort(coef)[-nfeatures :]\n",
    "top_negative_coefs = np.argsort(coef)[: nfeatures]\n",
    "top_coefs = np.hstack([top_negative_coefs, top_positive_coefs])\n",
    "\n",
    "plt.figure(figsize=(15, 5))\n",
    "colors = ['red' if c < 0 else 'blue' for c in coef[top_coefs]]\n",
    "plt.bar(np.arange(2 * nfeatures), coef[top_coefs], color = colors)\n",
    "feature_names = np.array(X_train.columns)\n",
    "plt.xticks(np.arange(0, 1 + 2 * nfeatures), feature_names[top_coefs], rotation=60, ha='right')\n",
    "\n",
    "plt.show()\n"
   ],
   "metadata": {
    "collapsed": false,
    "pycharm": {
     "name": "#%%\n"
    }
   }
  },
  {
   "cell_type": "markdown",
   "source": [
    "Here we see that no particular column label has a large absolute coefficient\n",
    "value, so we say that no feature is significantly important to determine the\n",
    "risk of a specific user. We however see that features like `Number_of_Friends`,\n",
    "`Member_since_day`, `Number of Comments in public forum`, etc. features\n",
    "representing online activeness all have negative coefficients, so we can guess\n",
    "that online activeness may decrease the probability of a user's risk.\n",
    "\n",
    "Other observations might include:\n",
    "- The field `Female` has a near-zero coefficient - some can say gender plays no\n",
    "role in determining a user's online risk.\n",
    "- `Submissive`'s, though low, is the most positive coefficient.\n",
    "\n"
   ],
   "metadata": {
    "collapsed": false,
    "pycharm": {
     "name": "#%% md\n"
    }
   }
  }
 ],
 "metadata": {
  "language_info": {
   "codemirror_mode": {
    "name": "ipython",
    "version": 2
   },
   "file_extension": ".py",
   "mimetype": "text/x-python",
   "name": "python",
   "nbconvert_exporter": "python",
   "pygments_lexer": "ipython2",
   "version": "2.7.6"
  },
  "kernelspec": {
   "name": "python3",
   "language": "python",
   "display_name": "Python 3"
  },
  "pycharm": {
   "stem_cell": {
    "cell_type": "raw",
    "source": [],
    "metadata": {
     "collapsed": false
    }
   }
  }
 },
 "nbformat": 4,
 "nbformat_minor": 0
}